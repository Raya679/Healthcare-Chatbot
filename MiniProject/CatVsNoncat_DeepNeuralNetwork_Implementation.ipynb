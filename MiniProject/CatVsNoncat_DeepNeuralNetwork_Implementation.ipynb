{
  "cells": [
    {
      "cell_type": "code",
      "execution_count": 68,
      "metadata": {
        "id": "mjjWm64Xz1wo"
      },
      "outputs": [],
      "source": [
        "# Packages\n",
        "import numpy as np\n",
        "import h5py\n",
        "from PIL import Image\n",
        "import zipfile\n",
        "import matplotlib.pyplot as plt"
      ]
    },
    {
      "cell_type": "code",
      "execution_count": 126,
      "metadata": {
        "id": "I8GwcLesz4vd"
      },
      "outputs": [],
      "source": [
        "# Activation functions\n",
        "\n",
        "def sigmoid(z):\n",
        "    s = 1/(1 + np.exp(-z))\n",
        "    return s,z\n",
        "\n",
        "def sigmoid_backward(dA,activation_cache):\n",
        "    Z = activation_cache\n",
        "    sigmoid_Z, _ = sigmoid(Z)\n",
        "    dZ = dA * sigmoid_Z * (1 - sigmoid_Z)  # Chain rule --> dZ = dL/dZ = (dL/dA)*(dA/dZ) = dA * (dA/dZ) --> dA/dZ = 1 if (Z>0) or 0 if (Z<0)\n",
        "    return dZ\n",
        "\n",
        "def relu(z):\n",
        "    s = np.maximum(z,0)\n",
        "    return s,z\n",
        "\n",
        "def relu_backward(dA,activation_cache):\n",
        "    Z = activation_cache\n",
        "    dZ = dA * (Z>0)     # Chain rule --> dZ = dL/dZ = (dL/dA)*(dA/dZ) = dA * (dA/dZ) --> dA/dZ = 1 if (Z>0) or 0 if (Z<0)\n",
        "    return dZ"
      ]
    },
    {
      "cell_type": "code",
      "execution_count": 70,
      "metadata": {
        "id": "p2oPdz1y0BQZ"
      },
      "outputs": [],
      "source": [
        "# He initialization\n",
        "def initialize_parameters(layer_dims):\n",
        "    L = len(layer_dims)\n",
        "    parameters = {}\n",
        "\n",
        "    for l in range (1,L):\n",
        "        parameters['W' + str(l)] = np.random.randn(layer_dims[l],layer_dims[l-1])*np.sqrt(2./layers_dims[l-1])  # He initialization\n",
        "        parameters['b' + str(l)] = np.zeros((layer_dims[l],1))\n",
        "\n",
        "    return parameters"
      ]
    },
    {
      "cell_type": "code",
      "execution_count": 71,
      "metadata": {
        "id": "pgd3hwyE0DmF"
      },
      "outputs": [],
      "source": [
        "def linear_forward(A,W,b):\n",
        "    Z = np.dot(W,A) + b\n",
        "    cache = (A,W,b)\n",
        "\n",
        "    return Z,cache"
      ]
    },
    {
      "cell_type": "code",
      "execution_count": 72,
      "metadata": {
        "id": "ZFyyPrnO0FtW"
      },
      "outputs": [],
      "source": [
        "def linear_activation_forward(A_prev,W,b,activation):\n",
        "\n",
        "    if activation == \"sigmoid\":\n",
        "       Z,linear_cache = linear_forward(A_prev,W,b)\n",
        "       A,activation_cache = sigmoid(Z)\n",
        "    elif activation == \"relu\":\n",
        "       Z,linear_cache = linear_forward(A_prev,W,b)\n",
        "       A,activation_cache = relu(Z)\n",
        "\n",
        "    cache = (linear_cache,activation_cache)  # ==> (A_prev,W,b,Z)\n",
        "    return A,cache"
      ]
    },
    {
      "cell_type": "code",
      "execution_count": 73,
      "metadata": {
        "id": "CJU_5Av50IRt"
      },
      "outputs": [],
      "source": [
        "def L_model_forward(X,parameters):\n",
        "    caches = []\n",
        "    A = X\n",
        "    L = len(parameters)//2\n",
        "\n",
        "    for l in range(1,L):\n",
        "        A_prev = A\n",
        "        A,cache = linear_activation_forward(A_prev,parameters['W' + str(l)],parameters['b' + str(l)],activation = \"relu\")\n",
        "        caches.append(cache)\n",
        "\n",
        "    AL,cache = linear_activation_forward(A_prev,parameters['W' + str(L)],parameters['b' + str(L)],activation = \"sigmoid\")\n",
        "    caches.append(cache)\n",
        "\n",
        "    return AL,caches"
      ]
    },
    {
      "cell_type": "code",
      "execution_count": 74,
      "metadata": {
        "id": "cgNohvVO0KqD"
      },
      "outputs": [],
      "source": [
        "def compute_cost(AL,Y):\n",
        "    m = Y.shape[0]\n",
        "\n",
        "    cost = (-1.0/m)*(np.dot(Y,np.log(AL).T) + np.dot((1-Y),np.log(1-AL).T))\n",
        "\n",
        "    cost = np.squeeze(cost)\n",
        "    return cost"
      ]
    },
    {
      "cell_type": "code",
      "execution_count": 75,
      "metadata": {
        "id": "Vv09FMLw0NXK"
      },
      "outputs": [],
      "source": [
        "def linear_backward(dZ,cache):\n",
        "    A_prev,W,b = cache\n",
        "    m = A_prev.shape[1]   # no. of columns\n",
        "\n",
        "    dW = (1.0/m)*np.dot(dZ,A_prev.T)\n",
        "    db = (1.0/m)*(np.sum(dZ,axis = 1,keepdims = True))\n",
        "    dA_prev = np.dot(W.T,dZ)\n",
        "\n",
        "    return dA_prev,dW,db"
      ]
    },
    {
      "cell_type": "code",
      "execution_count": 76,
      "metadata": {
        "id": "7Y3kXOX90Qc1"
      },
      "outputs": [],
      "source": [
        "def linear_activation_backward(dA,cache,activation):\n",
        "    linear_cache, activation_cache = cache\n",
        "\n",
        "    if activation == \"sigmoid\":\n",
        "       dZ = sigmoid_backward(dA,activation_cache)\n",
        "       dA_prev,dW,db = linear_backward(dZ,linear_cache)\n",
        "    elif activation == \"relu\":\n",
        "       dZ = relu_backward(dA,activation_cache)\n",
        "       dA_prev,dW,db = linear_backward(dZ,linear_cache)\n",
        "\n",
        "    return dA_prev,dW,db"
      ]
    },
    {
      "cell_type": "code",
      "execution_count": 77,
      "metadata": {
        "id": "Xys7Y-JD0Srv"
      },
      "outputs": [],
      "source": [
        "def L_model_backward(AL,Y,caches):\n",
        "    L = len(caches)\n",
        "    m = AL.shape[1]\n",
        "    Y = Y.reshape(AL.shape)\n",
        "    grads = {}\n",
        "\n",
        "    dAL = - np.divide(Y,AL) + np.divide(1-Y,1-AL)\n",
        "\n",
        "    # Backprop for sigmoid function in the last layer\n",
        "    current_cache = caches[L-1]\n",
        "    dA_prev_temp,dW_temp,db_temp = linear_activation_backward(dAL,current_cache,activation = \"sigmoid\")\n",
        "    grads['dA'+str(L-1)] = dA_prev_temp\n",
        "    grads['dW'+str(L)] = dW_temp\n",
        "    grads['db'+str(L)] = db_temp\n",
        "\n",
        "    # Now for ReLU which is from L-2 to 0\n",
        "    for l in reversed(range(L-1)):\n",
        "        current_cache = caches[l]\n",
        "        dA_prev_temp,dW_temp,db_temp = linear_activation_backward(grads['dA'+str(l+1)],current_cache,activation = \"relu\")\n",
        "        grads['dA'+str(l)] = dA_prev_temp\n",
        "        grads['dW'+str(l+1)] = dW_temp\n",
        "        grads['db'+str(l+1)] = db_temp\n",
        "\n",
        "    return grads"
      ]
    },
    {
      "cell_type": "code",
      "execution_count": 127,
      "metadata": {
        "id": "2QiRXocU0VYf"
      },
      "outputs": [],
      "source": [
        "def update_parameters(parameters,grads,learning_rate):\n",
        "    L = len(parameters)//2\n",
        "\n",
        "    for l in range (1,L+1):\n",
        "        parameters['W'+str(l)] = parameters['W'+str(l)] - learning_rate * grads['dW'+str(l)]\n",
        "        parameters['b'+str(l)] = parameters['b'+str(l)] - learning_rate * grads['db'+str(l)]\n",
        "\n",
        "    return parameters"
      ]
    },
    {
      "cell_type": "code",
      "execution_count": 128,
      "metadata": {
        "id": "NtcQeYHf0X3Z"
      },
      "outputs": [],
      "source": [
        "!mkdir -p ~/.kaggle\n",
        "!cp kaggle.json ~/.kaggle/"
      ]
    },
    {
      "cell_type": "code",
      "execution_count": 129,
      "metadata": {
        "colab": {
          "base_uri": "https://localhost:8080/"
        },
        "id": "Aw6_FcPV0ez3",
        "outputId": "39eda489-9df3-438e-8064-404f20abe48a"
      },
      "outputs": [
        {
          "name": "stdout",
          "output_type": "stream",
          "text": [
            "Warning: Your Kaggle API key is readable by other users on this system! To fix this, you can run 'chmod 600 /root/.kaggle/kaggle.json'\n",
            "catvnoncat.zip: Skipping, found more recently modified local copy (use --force to force download)\n"
          ]
        }
      ],
      "source": [
        "!kaggle datasets download -d muhammeddalkran/catvnoncat"
      ]
    },
    {
      "cell_type": "code",
      "execution_count": 130,
      "metadata": {
        "id": "6FlxIOOs0hBu"
      },
      "outputs": [],
      "source": [
        "zip_ref = zipfile.ZipFile('/content/catvnoncat.zip', 'r')\n",
        "zip_ref.extractall('/content')\n",
        "zip_ref.close()"
      ]
    },
    {
      "cell_type": "code",
      "execution_count": 131,
      "metadata": {
        "id": "-VjtN9Hn0n9s"
      },
      "outputs": [],
      "source": [
        "# IMPORTANT ***\n",
        "test = h5py.File('/content/catvnoncat/test_catvnoncat.h5', 'r')\n",
        "test_x_orig = test['test_set_x']\n",
        "test_y = test['test_set_y']\n",
        "train = h5py.File('/content/catvnoncat/train_catvnoncat.h5', 'r')\n",
        "train_x_orig = train['train_set_x']\n",
        "train_y = train['train_set_y']\n",
        "\n",
        "classes = [\"cat\",\"non-cat\"]\n"
      ]
    },
    {
      "cell_type": "code",
      "execution_count": 132,
      "metadata": {
        "id": "YS8yIGeh0tnA"
      },
      "outputs": [],
      "source": [
        "train_x_orig = np.array(train_x_orig)\n",
        "test_x_orig = np.array(test_x_orig)\n",
        "\n",
        "train_x = train_x_orig.reshape(train_x_orig.shape[0], -1).T\n",
        "test_x = test_x_orig.reshape(test_x_orig.shape[0], -1).T\n",
        "\n",
        "train_x = train_x / 255\n",
        "test_x = test_x / 255\n"
      ]
    },
    {
      "cell_type": "code",
      "execution_count": 133,
      "metadata": {
        "id": "e0rb7IGs1add"
      },
      "outputs": [],
      "source": [
        "layers_dims = [train_x.shape[0], 64, 256, 16, 16, 1]"
      ]
    },
    {
      "cell_type": "code",
      "execution_count": 134,
      "metadata": {
        "id": "Ni2Wqv9R1e3w"
      },
      "outputs": [],
      "source": [
        "def L_layer_model(X,Y,layer_dims,learning_rate=0.0075,num_iterations=300):\n",
        "  costs = []\n",
        "  parameters = initialize_parameters(layer_dims)\n",
        "\n",
        "  for i in range(0,num_iterations):\n",
        "    AL,caches = L_model_forward(X,parameters)\n",
        "    cost = compute_cost(AL,Y)\n",
        "    grads = L_model_backward(AL,Y,caches)\n",
        "    parameters = update_parameters(parameters,grads,learning_rate)\n",
        "\n",
        "    if i % 100 == 0 or i == num_iterations:\n",
        "            costs.append(cost)\n",
        "\n",
        "  return parameters, costs"
      ]
    },
    {
      "cell_type": "code",
      "execution_count": 135,
      "metadata": {
        "colab": {
          "base_uri": "https://localhost:8080/"
        },
        "id": "LNZ2ofU_EyFS",
        "outputId": "08c189b8-ea27-4409-f4e6-aa382f8d3c59"
      },
      "outputs": [
        {
          "name": "stdout",
          "output_type": "stream",
          "text": [
            "Test Accuracy: 76.00%\n"
          ]
        }
      ],
      "source": [
        "from sklearn.metrics import accuracy_score\n",
        "train_x = np.array(train_x)\n",
        "train_y = np.array(train_y)\n",
        "parameters, costs = L_layer_model(train_x, train_y, layers_dims, num_iterations=1000)\n",
        "\n",
        "def predict(X, parameters):\n",
        "    AL, _ = L_model_forward(X, parameters)\n",
        "    predictions = (AL > 0.5).astype(int)\n",
        "    return predictions\n",
        "\n",
        "test_predictions = predict(test_x, parameters)\n",
        "test_predictions = test_predictions.reshape(test_y.shape)\n",
        "\n",
        "test_accuracy = accuracy_score(test_y, test_predictions)\n",
        "print(\"Test Accuracy: {:.2%}\".format(test_accuracy))\n"
      ]
    },
    {
      "cell_type": "code",
      "execution_count": 150,
      "metadata": {
        "colab": {
          "base_uri": "https://localhost:8080/",
          "height": 449
        },
        "id": "0Z8LuAk8mjxo",
        "outputId": "e7cafec0-70cf-4bb4-b2de-5a7dbebc5a5b"
      },
      "outputs": [
        {
          "name": "stdout",
          "output_type": "stream",
          "text": [
            "It is a \"cat\" picture.\n"
          ]
        },
        {
          "data": {
            "image/png": "[encoded data removed]",
            "text/plain": [
              "<Figure size 640x480 with 1 Axes>"
            ]
          },
          "metadata": {},
          "output_type": "display_data"
        }
      ],
      "source": [
        "Y_prediction_test, _ = L_model_forward(test_x, parameters)\n",
        "\n",
        "index = 6\n",
        "\n",
        "plt.imshow(test_x[:, index].reshape((64, 64, 3)))\n",
        "print(\"It is a \\\"\" + classes[int(Y_prediction_test[0,index])] + \"\\\" picture.\")"
      ]
    },
    {
      "cell_type": "code",
      "execution_count": null,
      "metadata": {
        "id": "JqPCMTne--2W"
      },
      "outputs": [],
      "source": []
    }
  ],
  "metadata": {
    "colab": {
      "provenance": []
    },
    "kernelspec": {
      "display_name": "Python 3",
      "name": "python3"
    },
    "language_info": {
      "name": "python"
    }
  },
  "nbformat": 4,
  "nbformat_minor": 0
}
