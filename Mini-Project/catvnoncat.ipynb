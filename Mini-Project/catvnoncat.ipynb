{
  "nbformat": 4,
  "nbformat_minor": 0,
  "metadata": {
    "colab": {
      "provenance": []
    },
    "kernelspec": {
      "name": "python3",
      "display_name": "Python 3"
    },
    "language_info": {
      "name": "python"
    }
  },
  "cells": [
    {
      "cell_type": "code",
      "execution_count": null,
      "metadata": {
        "id": "7l3qKJXBl0aQ"
      },
      "outputs": [],
      "source": [
        "!mkdir -p ~/.kaggle\n",
        "!cp kaggle.json ~/.kaggle\n"
      ]
    },
    {
      "cell_type": "code",
      "source": [
        "!kaggle datasets download -d muhammeddalkran/catvnoncat"
      ],
      "metadata": {
        "colab": {
          "base_uri": "https://localhost:8080/"
        },
        "id": "Q2VaBONkl-OL",
        "outputId": "679647f8-1031-4a9c-92d9-2cafc8787a1e"
      },
      "execution_count": null,
      "outputs": [
        {
          "output_type": "stream",
          "name": "stdout",
          "text": [
            "Warning: Your Kaggle API key is readable by other users on this system! To fix this, you can run 'chmod 600 /root/.kaggle/kaggle.json'\n",
            "Downloading catvnoncat.zip to /content\n",
            "  0% 0.00/2.66M [00:00<?, ?B/s]\n",
            "100% 2.66M/2.66M [00:00<00:00, 246MB/s]\n"
          ]
        }
      ]
    },
    {
      "cell_type": "code",
      "source": [
        "import zipfile\n",
        "zip_ref=zipfile.ZipFile('catvnoncat.zip','r')\n",
        "zip_ref.extractall('/content')\n",
        "zip_ref.close()"
      ],
      "metadata": {
        "id": "6_XALVxomTuS"
      },
      "execution_count": null,
      "outputs": []
    },
    {
      "cell_type": "code",
      "source": [
        "import numpy as np\n",
        "import h5py"
      ],
      "metadata": {
        "id": "Ksl18-69sMZ8"
      },
      "execution_count": null,
      "outputs": []
    },
    {
      "cell_type": "code",
      "source": [
        "\n",
        "train_dataset = h5py.File('/content/catvnoncat/train_catvnoncat.h5', \"r\")\n",
        "test_dataset = h5py.File('/content/catvnoncat/test_catvnoncat.h5', \"r\")"
      ],
      "metadata": {
        "id": "cQybs7Ogs2Eb"
      },
      "execution_count": null,
      "outputs": []
    },
    {
      "cell_type": "code",
      "source": [
        "train_set_x = np.array(train_dataset['train_set_x'])\n",
        "train_set_y = np.array(train_dataset['train_set_y'])\n",
        "test_set_x = np.array(test_dataset['test_set_x'])\n",
        "test_set_y = np.array(test_dataset['test_set_y'])\n",
        "train_set_y=train_set_y.reshape(-1,1)\n",
        "train_set_y=train_set_y.T\n",
        "Y=train_set_y\n",
        "test_set_y=test_set_y.reshape(-1,1)\n",
        "test_set_y=test_set_y.T\n",
        "\n",
        "classes = [\"cat\",\"not-cat\"]  #CHANGE\n",
        "\n",
        "print('Shape of train_set_x:', train_set_x.shape)\n",
        "print('Shape of train_set_y:', Y.shape)\n",
        "print('Shape of test_set_x:', test_set_x.shape)\n",
        "print('Shape of test_set_y:', test_set_y.shape)"
      ],
      "metadata": {
        "colab": {
          "base_uri": "https://localhost:8080/"
        },
        "id": "-S50mD8ky31v",
        "outputId": "3181f781-58a8-4db5-f5a8-b62890a66f26"
      },
      "execution_count": null,
      "outputs": [
        {
          "output_type": "stream",
          "name": "stdout",
          "text": [
            "Shape of train_set_x: (209, 64, 64, 3)\n",
            "Shape of train_set_y: (1, 209)\n",
            "Shape of test_set_x: (50, 64, 64, 3)\n",
            "Shape of test_set_y: (1, 50)\n"
          ]
        }
      ]
    },
    {
      "cell_type": "code",
      "source": [
        "# Sigmoid function\n",
        "def sigmoid(z):\n",
        "  z=s=1/(1+np.exp(-z))\n",
        "  return z\n",
        "# x=np.array([1,2,3])\n",
        "# print(sigmoid(x))"
      ],
      "metadata": {
        "id": "JXVRp__f466T"
      },
      "execution_count": null,
      "outputs": []
    },
    {
      "cell_type": "code",
      "source": [
        "# Initialize parameters to zero\n",
        "def initialize_para(dim):\n",
        "  w=np.zeros((dim,1))\n",
        "  b=0.0\n",
        "  # params={\n",
        "  #     \"w\":w,\n",
        "  #     \"b\":b\n",
        "  # }\n",
        "  return w,b\n",
        "\n"
      ],
      "metadata": {
        "id": "dGBauZ0F6j1n"
      },
      "execution_count": null,
      "outputs": []
    },
    {
      "cell_type": "code",
      "source": [
        "# Flatten the datasets\n",
        "train_set_x_flatten = train_set_x.reshape(train_set_x.shape[0], -1).T\n",
        "test_set_x_flatten = test_set_x.reshape(test_set_x.shape[0], -1).T\n",
        "X=train_set_x_flatten/255   #CHANGE\n",
        "test_set_x_flatten = test_set_x_flatten /255 #CHANGE\n",
        "print(X.shape[1])\n",
        "print(test_set_x_flatten.shape)"
      ],
      "metadata": {
        "colab": {
          "base_uri": "https://localhost:8080/"
        },
        "id": "7hS_H-298Ooc",
        "outputId": "78c4d4c4-9646-4a4c-eede-291a1f94c662"
      },
      "execution_count": null,
      "outputs": [
        {
          "output_type": "stream",
          "name": "stdout",
          "text": [
            "209\n",
            "(12288, 50)\n"
          ]
        }
      ]
    },
    {
      "cell_type": "code",
      "source": [
        "# Propagate\n",
        "def propagate(w,b,X,Y):\n",
        "  # w=params[\"w\"]\n",
        "  # b=params[\"b\"]\n",
        "  m=X.shape[1]\n",
        "  Z=np.dot(w.T,X)+b\n",
        "  A=sigmoid(Z)\n",
        "  cost=(-1.0/m)*(np.sum((Y*np.log(A)+(1-Y)*np.log(1-A))))\n",
        "  dw = (1.0/m)*(np.dot(X,(A-Y).T))\n",
        "  db = (1.0/m)*(np.sum(A-Y))\n",
        "\n",
        "  grads={\n",
        "      \"dw\":dw,\n",
        "      \"db\":db\n",
        "  }\n",
        "  # params={\n",
        "  #     \"w\":w,\n",
        "  #     \"b\":b\n",
        "  # }\n",
        "  return grads,cost  #CHANGE\n",
        "# w =  np.array([[1.], [2]])\n",
        "# b = 1.5\n",
        "# X = np.array([[1., -2., -1.], [3., 0.5, -3.2]])\n",
        "# Y = np.array([[1, 1, 0]])\n",
        "# print(propagate(params,X,Y))\n",
        "\n"
      ],
      "metadata": {
        "id": "40dXj8dK-T32"
      },
      "execution_count": null,
      "outputs": []
    },
    {
      "cell_type": "code",
      "source": [
        "# optimization\n",
        "def optimizer(w,b,X,Y,lr=0.009,num_iterations=500):\n",
        "  costs=[]\n",
        "\n",
        "  for i in range(num_iterations):\n",
        "\n",
        "    grads,cost=propagate(w,b,X,Y)\n",
        "    # w=params[\"w\"]\n",
        "    # b=params[\"b\"]\n",
        "    dw=grads[\"dw\"]\n",
        "    db=grads[\"db\"]\n",
        "    w=w-lr*dw\n",
        "    b=b-lr*db\n",
        "    if i%500==0:\n",
        "      costs.append(cost)\n",
        "  params={\n",
        "      \"w\":w,\n",
        "      \"b\":b\n",
        "  }\n",
        "  grads={\n",
        "      \"dw\":dw,\n",
        "      \"db\":db\n",
        "  }\n",
        "  return params,grads,costs\n"
      ],
      "metadata": {
        "id": "QUsx_vj7CDpC"
      },
      "execution_count": null,
      "outputs": []
    },
    {
      "cell_type": "code",
      "source": [
        "# params, grads, costs = optimizer(params, X, Y, lr=0.009, num_iterations=500)\n",
        "\n",
        "# print (\"w = \" + str(params[\"w\"]))\n",
        "# print (\"b = \" + str(params[\"b\"]))\n",
        "# print (\"dw = \" + str(grads[\"dw\"]))\n",
        "# print (\"db = \" + str(grads[\"db\"]))\n",
        "# print(\"Costs = \" + str(costs))"
      ],
      "metadata": {
        "id": "qfsBGRZKFXZN"
      },
      "execution_count": null,
      "outputs": []
    },
    {
      "cell_type": "code",
      "source": [
        "# predict\n",
        "def predict(w,b,X):\n",
        "  # w=params[\"w\"]\n",
        "  # b=params[\"b\"]\n",
        "  Y_predict=np.zeros((1,X.shape[1]))\n",
        "  Z=np.dot(w.T,X)+b\n",
        "  A=sigmoid(Z)\n",
        "  for i in range(A.shape[1]):\n",
        "    if A[0,i]<=0.5:\n",
        "      Y_predict[0,i]=0\n",
        "    else:\n",
        "      Y_predict[0,i]=1\n",
        "    # params={\n",
        "    #     \"w\":w,\n",
        "    #     \"b\":b\n",
        "    # }\n",
        "  return Y_predict"
      ],
      "metadata": {
        "id": "ecuV_iINGiQ6"
      },
      "execution_count": null,
      "outputs": []
    },
    {
      "cell_type": "code",
      "source": [
        "# Merge all functions\n",
        "def model(X_test, X_train, Y_test, Y_train, lr=0.009, num_iterations=500):\n",
        "\n",
        "    w,b = initialize_para(X_train.shape[0])\n",
        "\n",
        "    params,grads, costs = optimizer(w,b, X_train,Y_train, lr=0.009, num_iterations=500)  #change\n",
        "\n",
        "    w = params[\"w\"]\n",
        "    b = params[\"b\"]\n",
        "\n",
        "    Y_predict_train = predict(w,b, X_train)\n",
        "    Y_predict_test = predict(w,b, X_test)\n",
        "\n",
        "    print(\"train accuracy: {} %\".format(100 - np.mean(np.abs(Y_predict_train - Y_train)) * 100))  #CHANGE\n",
        "    print(\"test accuracy: {} %\".format(100 - np.mean(np.abs(Y_predict_test - Y_test)) * 100))  #CHANGE\n",
        "\n",
        "    result = {\n",
        "        \"costs\": costs,\n",
        "        \"w\": w,\n",
        "        \"b\": b,\n",
        "        \"Y_predict_train\": Y_predict_train,\n",
        "        \"Y_predict_test\": Y_predict_test,\n",
        "        \"lr\": lr,\n",
        "        \"num_iterations\": num_iterations\n",
        "    }\n",
        "\n",
        "    return result\n",
        "\n",
        "\n",
        "res = model(test_set_x_flatten, train_set_x_flatten, test_set_y,train_set_y, lr=0.009,\n",
        "               num_iterations=500)\n",
        "print(res)\n"
      ],
      "metadata": {
        "colab": {
          "base_uri": "https://localhost:8080/"
        },
        "id": "nt5LK4cTRVLH",
        "outputId": "2f3a5fe7-92b8-4e4e-f9cd-cad3bb5adc1e"
      },
      "execution_count": null,
      "outputs": [
        {
          "output_type": "stream",
          "name": "stderr",
          "text": [
            "<ipython-input-38-aea994262bee>:3: RuntimeWarning: overflow encountered in exp\n",
            "  z=s=1/(1+np.exp(-z))\n",
            "<ipython-input-41-fae5ab903602>:8: RuntimeWarning: divide by zero encountered in log\n",
            "  cost=(-1.0/m)*(np.sum((Y*np.log(A)+(1-Y)*np.log(1-A))))\n",
            "<ipython-input-41-fae5ab903602>:8: RuntimeWarning: invalid value encountered in multiply\n",
            "  cost=(-1.0/m)*(np.sum((Y*np.log(A)+(1-Y)*np.log(1-A))))\n"
          ]
        },
        {
          "output_type": "stream",
          "name": "stdout",
          "text": [
            "train accuracy: 95.2153110047847 %\n",
            "test accuracy: 74.0 %\n",
            "{'costs': [0.6931471805599453], 'w': array([[ 1.89590389],\n",
            "       [-4.55770071],\n",
            "       [-2.10127847],\n",
            "       ...,\n",
            "       [-2.09592054],\n",
            "       [-5.20282318],\n",
            "       [ 4.06854387]]), 'b': 0.0072377754624978596, 'Y_predict_train': array([[0., 0., 1., 0., 0., 0., 0., 1., 0., 0., 0., 1., 0., 1., 1., 0.,\n",
            "        0., 0., 0., 1., 0., 0., 0., 0., 1., 1., 0., 1., 0., 1., 0., 0.,\n",
            "        0., 0., 0., 0., 0., 0., 1., 1., 0., 0., 1., 0., 0., 0., 0., 1.,\n",
            "        0., 0., 1., 1., 0., 1., 1., 0., 1., 1., 0., 1., 1., 1., 0., 0.,\n",
            "        0., 0., 0., 0., 1., 0., 0., 1., 0., 0., 0., 1., 0., 0., 0., 0.,\n",
            "        0., 0., 0., 1., 1., 0., 0., 0., 1., 0., 0., 0., 0., 1., 1., 0.,\n",
            "        0., 1., 0., 0., 0., 0., 1., 0., 1., 0., 1., 1., 1., 1., 1., 1.,\n",
            "        0., 0., 0., 0., 0., 1., 0., 0., 0., 1., 0., 0., 1., 0., 1., 0.,\n",
            "        1., 1., 0., 0., 0., 1., 1., 0., 1., 1., 0., 0., 0., 0., 1., 0.,\n",
            "        1., 1., 1., 0., 1., 1., 1., 0., 0., 1., 0., 1., 1., 0., 0., 0.,\n",
            "        0., 0., 1., 0., 1., 0., 1., 0., 0., 1., 1., 1., 0., 0., 1., 1.,\n",
            "        0., 1., 0., 1., 0., 0., 0., 0., 0., 1., 0., 0., 1., 0., 0., 0.,\n",
            "        1., 0., 0., 0., 1., 1., 0., 0., 1., 0., 0., 0., 0., 0., 0., 0.,\n",
            "        0.]]), 'Y_predict_test': array([[1., 1., 1., 1., 1., 1., 0., 1., 1., 1., 0., 1., 1., 1., 0., 1.,\n",
            "        0., 1., 0., 0., 1., 0., 0., 1., 1., 1., 1., 0., 0., 1., 0., 1.,\n",
            "        1., 0., 1., 0., 0., 1., 0., 0., 1., 1., 1., 0., 1., 0., 0., 1.,\n",
            "        1., 0.]]), 'lr': 0.009, 'num_iterations': 500}\n"
          ]
        }
      ]
    },
    {
      "cell_type": "code",
      "source": [
        "# from sklearn.metrics import accuracy_score\n",
        "\n",
        "\n",
        "# Y_predict_test=res[\"Y_predict_test\"]\n",
        "# accuracy_score(test_set_y,Y_predict_test)\n"
      ],
      "metadata": {
        "id": "x41rozg-u942"
      },
      "execution_count": null,
      "outputs": []
    },
    {
      "cell_type": "code",
      "source": [
        "import matplotlib.pyplot as plt\n",
        "# costs = np.squeeze(res['costs'])\n",
        "# plt.plot(costs)\n",
        "# plt.ylabel('cost')\n",
        "# plt.xlabel('iterations (per hundreds)')\n",
        "# plt.title(\"Learning rate =\" + str(res[\"lr\"]))\n",
        "# plt.show()"
      ],
      "metadata": {
        "id": "Moa4hwVq08Xu"
      },
      "execution_count": null,
      "outputs": []
    },
    {
      "cell_type": "code",
      "source": [
        "from PIL import Image\n",
        "from scipy import ndimage\n",
        "\n",
        "index = 3\n",
        "plt.imshow(X[:, index].reshape((64, 64, 3)))\n",
        "print (\"you predicted that it is a \\\"\" + classes[int(res[\"Y_predict_test\"][0, index])] + \"\\\" picture.\")\n",
        "\n",
        "def accuracy(Y_pred, labels):\n",
        "\n",
        "    Y_pred = np.squeeze(Y_pred)\n",
        "    labels = np.squeeze(labels)\n",
        "\n",
        "    accuracy = np.mean(Y_pred == labels)\n",
        "\n",
        "    return accuracy\n",
        "\n",
        "accuracy_value = accuracy(res[\"Y_predict_test\"], test_set_y)\n",
        "\n",
        "print(\"Test Accuracy: {:.2%}\".format(accuracy_value))"
      ],
      "metadata": {
        "id": "5oFR3b-Moh4v",
        "colab": {
          "base_uri": "https://localhost:8080/",
          "height": 467
        },
        "outputId": "99775930-752b-4f17-edf8-9a6bf223f445"
      },
      "execution_count": null,
      "outputs": [
        {
          "output_type": "stream",
          "name": "stdout",
          "text": [
            "you predicted that it is a \"not-cat\" picture.\n",
            "Test Accuracy: 74.00%\n"
          ]
        },
        {
          "output_type": "display_data",
          "data": {
            "text/plain": [
              "<Figure size 640x480 with 1 Axes>"
            ],
            "image/png": "[encoded data removed]"
          },
          "metadata": {}
        }
      ]
    },
    {
      "cell_type": "code",
      "source": [],
      "metadata": {
        "id": "a2rq8okCCgYq"
      },
      "execution_count": null,
      "outputs": []
    }
  ]
}